{
 "cells": [
  {
   "cell_type": "code",
   "execution_count": 185,
   "id": "f71aa906",
   "metadata": {},
   "outputs": [
    {
     "data": {
      "application/javascript": [
       "Jupyter.notebook.get_cells().map(function(cell) {\n",
       "  if (cell.cell_type === 'code') {\n",
       "    cell.code_mirror.setOption('indentUnit', 2);\n",
       "    cell.code_mirror.setOption('tabSize', 2);\n",
       "  }\n",
       "});\n"
      ],
      "text/plain": [
       "<IPython.core.display.Javascript object>"
      ]
     },
     "metadata": {},
     "output_type": "display_data"
    }
   ],
   "source": [
    "%%javascript\n",
    "Jupyter.notebook.get_cells().map(function(cell) {\n",
    "  if (cell.cell_type === 'code') {\n",
    "    cell.code_mirror.setOption('indentUnit', 2);\n",
    "    cell.code_mirror.setOption('tabSize', 2);\n",
    "  }\n",
    "});"
   ]
  },
  {
   "cell_type": "markdown",
   "id": "b12ab02b",
   "metadata": {},
   "source": [
    "# 1. Import Required Packages"
   ]
  },
  {
   "cell_type": "code",
   "execution_count": 219,
   "id": "cf56cb06",
   "metadata": {},
   "outputs": [],
   "source": [
    "import torch\n",
    "from torch import nn\n",
    "from torch.utils.data import Dataset, DataLoader\n",
    "from torch.nn import functional as F\n",
    "\n",
    "import torchvision\n",
    "from torchvision import datasets\n",
    "from torchvision import transforms\n",
    "from torchvision.transforms import functional as T\n",
    "\n",
    "from torchmetrics import Accuracy\n",
    "\n",
    "import numpy as np\n",
    "import matplotlib.pyplot as plt\n",
    "\n",
    "from tqdm.auto import tqdm"
   ]
  },
  {
   "cell_type": "code",
   "execution_count": 229,
   "id": "51cbcf4a",
   "metadata": {},
   "outputs": [
    {
     "data": {
      "text/plain": [
       "device(type='mps')"
      ]
     },
     "execution_count": 229,
     "metadata": {},
     "output_type": "execute_result"
    }
   ],
   "source": [
    "device = torch.device(\n",
    "    \"cuda\" if torch.cuda.is_available() else\n",
    "    \"mps\" if torch.backends.mps.is_available() else\n",
    "    \"cpu\")\n",
    "device"
   ]
  },
  {
   "cell_type": "markdown",
   "id": "e2b34822",
   "metadata": {},
   "source": [
    "## 2. Dataset Preparation and Visualization"
   ]
  },
  {
   "cell_type": "code",
   "execution_count": 220,
   "id": "09e184e4",
   "metadata": {},
   "outputs": [
    {
     "name": "stdout",
     "output_type": "stream",
     "text": [
      "Files already downloaded and verified\n"
     ]
    }
   ],
   "source": [
    "default_test_dataset = datasets.CIFAR10(\n",
    "  root=\"data\",\n",
    "  download=True,\n",
    "  train=False,\n",
    "  transform=None\n",
    ")"
   ]
  },
  {
   "cell_type": "code",
   "execution_count": 221,
   "id": "22ddc9cd",
   "metadata": {},
   "outputs": [],
   "source": [
    "mean = torch.tensor((0.4914, 0.4822, 0.4465))\n",
    "std = torch.tensor((0.2023, 0.1994, 0.2010))\n",
    "\n",
    "def fix_scale_transform(s):\n",
    "  return transforms.Compose([\n",
    "    transforms.Resize(s),\n",
    "    transforms.RandomCrop(32),\n",
    "    transforms.RandomHorizontalFlip(),\n",
    "    transforms.ColorJitter(\n",
    "      brightness=0.2,\n",
    "      contrast=0.2,\n",
    "      saturation=0.2,\n",
    "      hue=0.2\n",
    "    ),\n",
    "    transforms.ToTensor(),\n",
    "    transforms.Normalize(mean, std)\n",
    "  ])\n",
    "\n",
    "def multi_scale_transform(s_min, s_max):\n",
    "  area = 32**2\n",
    "  min_area = s_min**2\n",
    "  max_area = s_max**2\n",
    "  \n",
    "  return transforms.Compose([\n",
    "    transforms.RandomResizedCrop(\n",
    "      size=32,\n",
    "      scale=(area / max_area, area / min_area),\n",
    "      ratio=(1.0, 1.0)\n",
    "    ),\n",
    "    transforms.RandomHorizontalFlip(),\n",
    "    transforms.ColorJitter(\n",
    "      brightness=0.2,\n",
    "      contrast=0.2,\n",
    "      saturation=0.2,\n",
    "      hue=0.2\n",
    "    ),\n",
    "    transforms.ToTensor(),\n",
    "    transforms.Normalize(mean, std)\n",
    "  ])"
   ]
  },
  {
   "cell_type": "code",
   "execution_count": 222,
   "id": "784d13b5",
   "metadata": {},
   "outputs": [],
   "source": [
    "def denormalize(img: torch.Tensor):\n",
    "  return torch.clamp(img * std[:, None, None] + mean[:, None, None], min=0)"
   ]
  },
  {
   "cell_type": "code",
   "execution_count": 223,
   "id": "4cae9970",
   "metadata": {},
   "outputs": [
    {
     "data": {
      "image/png": "[encoded data removed]",
      "text/plain": [
       "<Figure size 1000x500 with 2 Axes>"
      ]
     },
     "metadata": {},
     "output_type": "display_data"
    }
   ],
   "source": [
    "s = 50\n",
    "\n",
    "img, label = default_test_dataset[np.random.choice(len(default_test_dataset))]\n",
    "img_fst_50 = fix_scale_transform(s)(img)\n",
    "\n",
    "plt.figure(figsize=(10, 5))\n",
    "\n",
    "plt.subplot(1, 2, 1)\n",
    "plt.title(\"Original\")\n",
    "plt.imshow(img)\n",
    "plt.axis(False)\n",
    "\n",
    "plt.subplot(1, 2, 2)\n",
    "plt.title(\"S=50\")\n",
    "plt.imshow(denormalize(img_fst_50).permute(1, 2, 0))\n",
    "plt.axis(False)\n",
    "\n",
    "plt.show()"
   ]
  },
  {
   "cell_type": "code",
   "execution_count": 224,
   "id": "d06e85ec",
   "metadata": {},
   "outputs": [
    {
     "data": {
      "image/png": "[encoded data removed]",
      "text/plain": [
       "<Figure size 1000x500 with 3 Axes>"
      ]
     },
     "metadata": {},
     "output_type": "display_data"
    }
   ],
   "source": [
    "s_min, s_max = 40, 50\n",
    "\n",
    "mst_40_50 = multi_scale_transform(s_min, s_max)\n",
    "\n",
    "img, label = default_test_dataset[np.random.choice(len(default_test_dataset))]\n",
    "img_mst_40_50_1 = mst_40_50(img)\n",
    "img_mst_40_50_2 = mst_40_50(img)\n",
    "\n",
    "plt.figure(figsize=(10, 5))\n",
    "\n",
    "plt.subplot(1, 3, 1)\n",
    "plt.title(\"Original\")\n",
    "plt.imshow(img)\n",
    "plt.axis(False)\n",
    "\n",
    "plt.subplot(1, 3, 2)\n",
    "plt.title(\"S=[40, 50]\")\n",
    "plt.imshow(denormalize(img_mst_40_50_1).permute(1, 2, 0))\n",
    "plt.axis(False)\n",
    "\n",
    "plt.subplot(1, 3, 3)\n",
    "plt.title(\"S=[40, 50]\")\n",
    "plt.imshow(denormalize(img_mst_40_50_2).permute(1, 2, 0))\n",
    "plt.axis(False)\n",
    "\n",
    "plt.show()"
   ]
  },
  {
   "cell_type": "code",
   "execution_count": 225,
   "id": "fca281b6",
   "metadata": {},
   "outputs": [],
   "source": [
    "# base_dataset으로 Transform된 데이터셋을 기대\n",
    "class PairedFlipDataset(Dataset):\n",
    "  def __init__(self, base_dataset):\n",
    "    self.base_dataset = base_dataset\n",
    "    \n",
    "  def __len__(self):\n",
    "    return len(self.base_dataset)\n",
    "  \n",
    "  def __getitem__(self, idx):\n",
    "    img, label = self.base_dataset[idx]\n",
    "    \n",
    "    img_flip = T.hflip(img)\n",
    "    \n",
    "    return img, img_flip, label\n",
    "\n",
    "# base_dataset으로 transform=None인 데이터셋을 기대\n",
    "class MultiTransformDataset(Dataset):\n",
    "  def __init__(self, base_dataset, *trans):\n",
    "    self.base_dataset = base_dataset\n",
    "    self.trans = trans\n",
    "    \n",
    "  def __len__(self):\n",
    "    return len(self.base_dataset)\n",
    "  \n",
    "  def __getitem__(self, idx):\n",
    "    img, label = self.base_dataset[idx]\n",
    "    \n",
    "    imgs = [tran(img) for tran in self.trans]\n",
    "    \n",
    "    return *imgs, label"
   ]
  },
  {
   "cell_type": "code",
   "execution_count": 226,
   "id": "e9e70cc1",
   "metadata": {},
   "outputs": [
    {
     "name": "stdout",
     "output_type": "stream",
     "text": [
      "Files already downloaded and verified\n"
     ]
    },
    {
     "data": {
      "image/png": "[encoded data removed]",
      "text/plain": [
       "<Figure size 1000x500 with 2 Axes>"
      ]
     },
     "metadata": {},
     "output_type": "display_data"
    }
   ],
   "source": [
    "fst_50 = fix_scale_transform(50)\n",
    "\n",
    "fst_50_test_dataset = datasets.CIFAR10(\n",
    "  root=\"data\",\n",
    "  download=True,\n",
    "  train=False,\n",
    "  transform=fst_50\n",
    ")\n",
    "\n",
    "fst_50_paired_flip_test_dataset = PairedFlipDataset(fst_50_test_dataset)\n",
    "\n",
    "img, img_flip, label = fst_50_paired_flip_test_dataset[np.random.choice(len(fst_50_paired_flip_test_dataset))]\n",
    "\n",
    "plt.figure(figsize=(10, 5))\n",
    "\n",
    "plt.subplot(1, 2, 1)\n",
    "plt.title(\"Original\")\n",
    "plt.imshow(denormalize(img).permute(1, 2, 0))\n",
    "plt.axis(False)\n",
    "\n",
    "plt.subplot(1, 2, 2)\n",
    "plt.title(\"Fliped\")\n",
    "plt.imshow(denormalize(img_flip).permute(1, 2, 0))\n",
    "plt.axis(False)\n",
    "\n",
    "plt.show()"
   ]
  },
  {
   "cell_type": "code",
   "execution_count": 227,
   "id": "95007b9c",
   "metadata": {},
   "outputs": [
    {
     "data": {
      "image/png": "[encoded data removed]",
      "text/plain": [
       "<Figure size 1000x500 with 2 Axes>"
      ]
     },
     "metadata": {},
     "output_type": "display_data"
    }
   ],
   "source": [
    "fst_50 = fix_scale_transform(50)\n",
    "mst_40_50 = multi_scale_transform(40, 50)\n",
    "\n",
    "multi_trans_test_dataset = MultiTransformDataset(default_test_dataset, fst_50, mst_40_50)\n",
    "\n",
    "img_fst_50, img_mst_40_50, label = multi_trans_test_dataset[np.random.choice(len(fst_50_paired_flip_test_dataset))]\n",
    "\n",
    "plt.figure(figsize=(10, 5))\n",
    "\n",
    "plt.subplot(1, 2, 1)\n",
    "plt.title(\"img_fst_50\")\n",
    "plt.imshow(denormalize(img_fst_50).permute(1, 2, 0))\n",
    "plt.axis(False)\n",
    "\n",
    "plt.subplot(1, 2, 2)\n",
    "plt.title(\"img_mst_40_50\")\n",
    "plt.imshow(denormalize(img_mst_40_50).permute(1, 2, 0))\n",
    "plt.axis(False)\n",
    "\n",
    "plt.show()"
   ]
  },
  {
   "cell_type": "markdown",
   "id": "e86405c0",
   "metadata": {},
   "source": [
    "# 3. Training and Evaluation Functions"
   ]
  },
  {
   "cell_type": "code",
   "execution_count": 231,
   "id": "144e6ebe",
   "metadata": {},
   "outputs": [],
   "source": [
    "## todo: top-1 error, top-5 error 등 여러 메트릭에 대해서도 모니터링 되도록\n",
    "## todo: tqdm 위젯 출력 문제 해결가능한가?\n",
    "\n",
    "def to_device(*args, device=device):\n",
    "  return [arg.to(device, non_blocking=True) for arg in args]\n",
    "\n",
    "def train_epoch(dataloader, model, criterion, optimizer, accuracy):\n",
    "  model.train()\n",
    "\n",
    "  train_loss, train_acc = 0, 0\n",
    "\n",
    "  for X, y in tqdm(dataloader, desc=\"Training\", leave=False):\n",
    "    X, y = to_device(X, y)\n",
    "\n",
    "    logits = model(X)\n",
    "\n",
    "    loss = criterion(logits, y)\n",
    "\n",
    "    optimizer.zero_grad()\n",
    "    loss.backward()\n",
    "    optimizer.step()\n",
    "\n",
    "    with torch.no_grad():\n",
    "      probs = torch.softmax(logits, dim=1)\n",
    "      preds = probs.argmax(dim=1)\n",
    "\n",
    "      train_loss += loss.cpu().item()\n",
    "      train_acc += accuracy(preds, y).cpu().item()\n",
    "\n",
    "  train_loss /= len(dataloader)\n",
    "  train_acc /= len(dataloader)\n",
    "\n",
    "  return train_loss, train_acc\n",
    "\n",
    "def validate_epoch(dataloader, model, criterion, accuracy):\n",
    "  model.eval()\n",
    "\n",
    "  val_loss, val_acc = 0, 0\n",
    "\n",
    "  with torch.no_grad():\n",
    "    for X, y in tqdm(dataloader, desc=\"Validate\", leave=False):\n",
    "      X, y = to_device(X, y)\n",
    "\n",
    "      logits = model(X)\n",
    "      probs = torch.softmax(logits, dim=1)\n",
    "      preds = probs.argmax(dim=1)\n",
    "\n",
    "      loss = criterion(logits, y)\n",
    "\n",
    "      val_loss += loss.cpu().item()\n",
    "      val_acc += accuracy(preds, y).cpu().item()\n",
    "\n",
    "  val_loss /= len(dataloader)\n",
    "  val_acc /= len(dataloader)\n",
    "\n",
    "  return val_loss, val_acc"
   ]
  },
  {
   "cell_type": "code",
   "execution_count": null,
   "id": "787c663b",
   "metadata": {},
   "outputs": [],
   "source": []
  }
 ],
 "metadata": {
  "kernelspec": {
   "display_name": "Python 3 (ipykernel)",
   "language": "python",
   "name": "python3"
  },
  "language_info": {
   "codemirror_mode": {
    "name": "ipython",
    "version": 3
   },
   "file_extension": ".py",
   "mimetype": "text/x-python",
   "name": "python",
   "nbconvert_exporter": "python",
   "pygments_lexer": "ipython3",
   "version": "3.10.13"
  }
 },
 "nbformat": 4,
 "nbformat_minor": 5
}
