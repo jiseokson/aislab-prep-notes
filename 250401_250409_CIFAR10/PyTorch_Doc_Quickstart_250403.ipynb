{
  "nbformat": 4,
  "nbformat_minor": 0,
  "metadata": {
    "colab": {
      "provenance": []
    },
    "kernelspec": {
      "name": "python3",
      "display_name": "Python 3"
    },
    "language_info": {
      "name": "python"
    }
  },
  "cells": [
    {
      "cell_type": "code",
      "execution_count": 1,
      "metadata": {
        "id": "PZx-Eki30a3x"
      },
      "outputs": [],
      "source": [
        "import torch\n",
        "from torch import nn\n",
        "from torch.utils.data import DataLoader\n",
        "from torchvision import datasets\n",
        "from torchvision.transforms import ToTensor"
      ]
    },
    {
      "cell_type": "code",
      "source": [
        "training_data = datasets.FashionMNIST(\n",
        "  root=\"data\",\n",
        "  train=True,\n",
        "  download=True,\n",
        "  transform=ToTensor(),\n",
        ")\n",
        "\n",
        "test_data = datasets.FashionMNIST(\n",
        "  root=\"data\",\n",
        "  train=False,\n",
        "  download=True,\n",
        "  transform=ToTensor(),\n",
        ")"
      ],
      "metadata": {
        "colab": {
          "base_uri": "https://localhost:8080/"
        },
        "id": "hxvyXiLj0rGK",
        "outputId": "d28ebfe8-f0d3-43da-f194-eab5c2e34453"
      },
      "execution_count": 2,
      "outputs": [
        {
          "output_type": "stream",
          "name": "stderr",
          "text": [
            "100%|██████████| 26.4M/26.4M [00:03<00:00, 8.28MB/s]\n",
            "100%|██████████| 29.5k/29.5k [00:00<00:00, 133kB/s]\n",
            "100%|██████████| 4.42M/4.42M [00:01<00:00, 2.48MB/s]\n",
            "100%|██████████| 5.15k/5.15k [00:00<00:00, 11.5MB/s]\n"
          ]
        }
      ]
    },
    {
      "cell_type": "code",
      "source": [
        "batch_size = 64\n",
        "\n",
        "train_dataloader = DataLoader(training_data, batch_size=batch_size)\n",
        "test_dataloader = DataLoader(test_data, batch_size=batch_size)\n",
        "\n",
        "X, y = next(iter(test_dataloader))\n",
        "print(f\"Shape of X [N, C, H, W]: {X.shape}\")\n",
        "print(f\"Shape of y: {y.shape} {y.dtype}\")"
      ],
      "metadata": {
        "colab": {
          "base_uri": "https://localhost:8080/"
        },
        "id": "UwB6Sa4G0uWl",
        "outputId": "834de80b-0d39-4b84-8d7b-43d3c9103097"
      },
      "execution_count": 3,
      "outputs": [
        {
          "output_type": "stream",
          "name": "stdout",
          "text": [
            "Shape of X [N, C, H, W]: torch.Size([64, 1, 28, 28])\n",
            "Shape of y: torch.Size([64]) torch.int64\n"
          ]
        }
      ]
    },
    {
      "cell_type": "code",
      "source": [
        "device = torch.accelerator.current_accelerator().type if torch.accelerator.is_available() else \"cpu\"\n",
        "print(f\"Using {device} device\")"
      ],
      "metadata": {
        "colab": {
          "base_uri": "https://localhost:8080/"
        },
        "id": "T54h79Is02q1",
        "outputId": "017694c2-f391-4f4b-f188-ea40cdca3612"
      },
      "execution_count": 4,
      "outputs": [
        {
          "output_type": "stream",
          "name": "stdout",
          "text": [
            "Using cpu device\n"
          ]
        }
      ]
    },
    {
      "cell_type": "code",
      "source": [
        "class NeuralNetwork(nn.Module):\n",
        "    def __init__(self):\n",
        "        super().__init__()\n",
        "        self.flatten = nn.Flatten()\n",
        "        self.linear_relu_stack = nn.Sequential(\n",
        "            nn.Linear(28*28, 512),\n",
        "            nn.ReLU(),\n",
        "            nn.Linear(512, 512),\n",
        "            nn.ReLU(),\n",
        "            nn.Linear(512, 10)\n",
        "        )\n",
        "\n",
        "    def forward(self, x):\n",
        "        x = self.flatten(x)\n",
        "        logits = self.linear_relu_stack(x)\n",
        "        return logits\n",
        "\n",
        "model = NeuralNetwork().to(device)\n",
        "print(model)"
      ],
      "metadata": {
        "colab": {
          "base_uri": "https://localhost:8080/"
        },
        "id": "ka_8Zj8D0539",
        "outputId": "c971665c-57b7-4cc2-f2e3-6ee5217c2b2c"
      },
      "execution_count": 5,
      "outputs": [
        {
          "output_type": "stream",
          "name": "stdout",
          "text": [
            "NeuralNetwork(\n",
            "  (flatten): Flatten(start_dim=1, end_dim=-1)\n",
            "  (linear_relu_stack): Sequential(\n",
            "    (0): Linear(in_features=784, out_features=512, bias=True)\n",
            "    (1): ReLU()\n",
            "    (2): Linear(in_features=512, out_features=512, bias=True)\n",
            "    (3): ReLU()\n",
            "    (4): Linear(in_features=512, out_features=10, bias=True)\n",
            "  )\n",
            ")\n"
          ]
        }
      ]
    },
    {
      "cell_type": "code",
      "source": [
        "loss_fn = nn.CrossEntropyLoss()\n",
        "optimizer = torch.optim.SGD(model.parameters(), lr=1e-3)"
      ],
      "metadata": {
        "id": "vQB5z_zI07_u"
      },
      "execution_count": 6,
      "outputs": []
    },
    {
      "cell_type": "code",
      "source": [
        "def train(dataloader, model, loss_fn, optimizer):\n",
        "  size = len(dataloader.dataset)\n",
        "  model.train()\n",
        "  for batch, (X, y) in enumerate(dataloader):\n",
        "    X, y = X.to(device), y.to(device)\n",
        "\n",
        "    pred = model(X)\n",
        "    loss = loss_fn(pred, y)\n",
        "\n",
        "    loss.backward()\n",
        "    optimizer.step()\n",
        "    optimizer.zero_grad()\n",
        "\n",
        "    if batch % 100 == 0:\n",
        "        loss, current = loss.item(), (batch + 1) * len(X)\n",
        "        print(f\"loss: {loss:>7f}  [{current:>5d}/{size:>5d}]\")"
      ],
      "metadata": {
        "id": "JrBFytYe09lQ"
      },
      "execution_count": 9,
      "outputs": []
    },
    {
      "cell_type": "code",
      "source": [
        "def test(dataloader, model, loss_fn):\n",
        "  size = len(dataloader.dataset)\n",
        "  num_batches = len(dataloader)\n",
        "  model.eval()\n",
        "  test_loss, correct = 0, 0\n",
        "  with torch.no_grad():\n",
        "    for X, y in dataloader:\n",
        "      X, y = X.to(device), y.to(device)\n",
        "      pred = model(X)\n",
        "      test_loss += loss_fn(pred, y).item()\n",
        "      correct += (pred.argmax(1) == y).type(torch.float).sum().item()\n",
        "  test_loss /= num_batches\n",
        "  correct /= size\n",
        "  print(f\"Test Error: \\n Accuracy: {(100*correct):>0.1f}%, Avg loss: {test_loss:>8f} \\n\")"
      ],
      "metadata": {
        "id": "UqvCBm_21Abu"
      },
      "execution_count": 10,
      "outputs": []
    },
    {
      "cell_type": "code",
      "source": [
        "epochs = 5\n",
        "\n",
        "for t in range(epochs):\n",
        "  print(f\"Epoch {t+1}\\n-------------------------------\")\n",
        "  train(train_dataloader, model, loss_fn, optimizer)\n",
        "  test(test_dataloader, model, loss_fn)\n",
        "\n",
        "print(\"Done!\")"
      ],
      "metadata": {
        "colab": {
          "base_uri": "https://localhost:8080/"
        },
        "id": "tfIjruhm1b6h",
        "outputId": "d6bce14d-a202-47be-fefc-6f060a60b363"
      },
      "execution_count": 11,
      "outputs": [
        {
          "output_type": "stream",
          "name": "stdout",
          "text": [
            "Epoch 1\n",
            "-------------------------------\n",
            "loss: 2.306185  [   64/60000]\n",
            "loss: 2.297468  [ 6464/60000]\n",
            "loss: 2.273370  [12864/60000]\n",
            "loss: 2.266975  [19264/60000]\n",
            "loss: 2.260839  [25664/60000]\n",
            "loss: 2.222096  [32064/60000]\n",
            "loss: 2.232349  [38464/60000]\n",
            "loss: 2.190852  [44864/60000]\n",
            "loss: 2.186430  [51264/60000]\n",
            "loss: 2.168816  [57664/60000]\n",
            "Test Error: \n",
            " Accuracy: 49.2%, Avg loss: 2.160823 \n",
            "\n",
            "Epoch 2\n",
            "-------------------------------\n",
            "loss: 2.166404  [   64/60000]\n",
            "loss: 2.159255  [ 6464/60000]\n",
            "loss: 2.103042  [12864/60000]\n",
            "loss: 2.122124  [19264/60000]\n",
            "loss: 2.073856  [25664/60000]\n",
            "loss: 2.000598  [32064/60000]\n",
            "loss: 2.034234  [38464/60000]\n",
            "loss: 1.944553  [44864/60000]\n",
            "loss: 1.955569  [51264/60000]\n",
            "loss: 1.886345  [57664/60000]\n",
            "Test Error: \n",
            " Accuracy: 55.9%, Avg loss: 1.889228 \n",
            "\n",
            "Epoch 3\n",
            "-------------------------------\n",
            "loss: 1.918060  [   64/60000]\n",
            "loss: 1.887022  [ 6464/60000]\n",
            "loss: 1.776800  [12864/60000]\n",
            "loss: 1.824598  [19264/60000]\n",
            "loss: 1.704715  [25664/60000]\n",
            "loss: 1.645989  [32064/60000]\n",
            "loss: 1.681372  [38464/60000]\n",
            "loss: 1.572523  [44864/60000]\n",
            "loss: 1.606692  [51264/60000]\n",
            "loss: 1.496667  [57664/60000]\n",
            "Test Error: \n",
            " Accuracy: 60.6%, Avg loss: 1.521190 \n",
            "\n",
            "Epoch 4\n",
            "-------------------------------\n",
            "loss: 1.587850  [   64/60000]\n",
            "loss: 1.548846  [ 6464/60000]\n",
            "loss: 1.405994  [12864/60000]\n",
            "loss: 1.482651  [19264/60000]\n",
            "loss: 1.358909  [25664/60000]\n",
            "loss: 1.343952  [32064/60000]\n",
            "loss: 1.371700  [38464/60000]\n",
            "loss: 1.285834  [44864/60000]\n",
            "loss: 1.328412  [51264/60000]\n",
            "loss: 1.223465  [57664/60000]\n",
            "Test Error: \n",
            " Accuracy: 62.4%, Avg loss: 1.254256 \n",
            "\n",
            "Epoch 5\n",
            "-------------------------------\n",
            "loss: 1.333684  [   64/60000]\n",
            "loss: 1.310698  [ 6464/60000]\n",
            "loss: 1.150283  [12864/60000]\n",
            "loss: 1.260156  [19264/60000]\n",
            "loss: 1.133499  [25664/60000]\n",
            "loss: 1.144861  [32064/60000]\n",
            "loss: 1.181290  [38464/60000]\n",
            "loss: 1.106250  [44864/60000]\n",
            "loss: 1.153891  [51264/60000]\n",
            "loss: 1.063687  [57664/60000]\n",
            "Test Error: \n",
            " Accuracy: 64.0%, Avg loss: 1.089485 \n",
            "\n",
            "Done!\n"
          ]
        }
      ]
    },
    {
      "cell_type": "code",
      "source": [
        "torch.save(model.state_dict(), \"model.pth\")\n",
        "print(\"Saved PyTorch Model State to model.pth\")"
      ],
      "metadata": {
        "colab": {
          "base_uri": "https://localhost:8080/"
        },
        "id": "GGM1d_Lc1iOa",
        "outputId": "9c817877-922b-4ed4-c03c-1da787d002bd"
      },
      "execution_count": 12,
      "outputs": [
        {
          "output_type": "stream",
          "name": "stdout",
          "text": [
            "Saved PyTorch Model State to model.pth\n"
          ]
        }
      ]
    },
    {
      "cell_type": "code",
      "source": [
        "model = NeuralNetwork().to(device)\n",
        "model.load_state_dict(torch.load(\"model.pth\", weights_only=True))"
      ],
      "metadata": {
        "colab": {
          "base_uri": "https://localhost:8080/"
        },
        "id": "RHe9WQlV1kyo",
        "outputId": "2ef8eb11-7154-4f94-ce14-89b80ee89215"
      },
      "execution_count": 13,
      "outputs": [
        {
          "output_type": "execute_result",
          "data": {
            "text/plain": [
              "<All keys matched successfully>"
            ]
          },
          "metadata": {},
          "execution_count": 13
        }
      ]
    },
    {
      "cell_type": "code",
      "source": [
        "classes = [\n",
        "  \"T-shirt/top\",\n",
        "  \"Trouser\",\n",
        "  \"Pullover\",\n",
        "  \"Dress\",\n",
        "  \"Coat\",\n",
        "  \"Sandal\",\n",
        "  \"Shirt\",\n",
        "  \"Sneaker\",\n",
        "  \"Bag\",\n",
        "  \"Ankle boot\",\n",
        "]\n",
        "\n",
        "model.eval()\n",
        "x, y = test_data[0][0], test_data[0][1]\n",
        "with torch.no_grad():\n",
        "  x = x.to(device)\n",
        "  pred = model(x)\n",
        "  predicted, actual = classes[pred[0].argmax(0)], classes[y]\n",
        "  print(f'Predicted: \"{predicted}\", Actual: \"{actual}\"')"
      ],
      "metadata": {
        "colab": {
          "base_uri": "https://localhost:8080/"
        },
        "id": "E9sCK5XH1l6z",
        "outputId": "3ecac32a-1022-4ac9-d0c5-91243d219fb4"
      },
      "execution_count": 15,
      "outputs": [
        {
          "output_type": "stream",
          "name": "stdout",
          "text": [
            "Predicted: \"Ankle boot\", Actual: \"Ankle boot\"\n"
          ]
        }
      ]
    },
    {
      "cell_type": "code",
      "source": [],
      "metadata": {
        "id": "p78P58V21nRb"
      },
      "execution_count": null,
      "outputs": []
    }
  ]
}