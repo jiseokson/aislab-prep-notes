{
 "nbformat": 4,
 "nbformat_minor": 0,
 "metadata": {
  "colab": {
   "provenance": [],
   "gpuType": "T4"
  },
  "kernelspec": {
   "name": "python3",
   "display_name": "Python 3"
  },
  "language_info": {
   "name": "python"
  },
  "accelerator": "GPU"
 },
 "cells": [
  {
   "cell_type": "code",
   "execution_count": null,
   "metadata": {
    "id": "C0pqI1AtHyky"
   },
   "outputs": [],
   "source": [
    "!pip -q install torchmetrics gdown\n",
    "\n",
    "import os, shutil\n",
    "from collections import Counter, OrderedDict\n",
    "\n",
    "from google.colab import drive\n",
    "import kagglehub\n",
    "\n",
    "from xml.etree import ElementTree as ET\n",
    "\n",
    "import torch\n",
    "from torch import nn\n",
    "from torch.utils.data import Dataset, DataLoader\n",
    "from torch.nn import functional as F\n",
    "\n",
    "import torchvision\n",
    "from torchvision import transforms\n",
    "from torchvision.transforms import functional as T\n",
    "\n",
    "from torchvision.models.detection import fasterrcnn_resnet50_fpn\n",
    "from torchvision.models.detection import FasterRCNN_ResNet50_FPN_Weights\n",
    "\n",
    "from torchmetrics.detection.mean_ap import MeanAveragePrecision\n",
    "\n",
    "import numpy as np\n",
    "import matplotlib.pyplot as plt\n",
    "from matplotlib.ticker import MaxNLocator\n",
    "\n",
    "import cv2\n",
    "\n",
    "import PIL\n",
    "\n",
    "from tqdm.auto import tqdm"
   ]
  },
  {
   "cell_type": "code",
   "source": [
    "device = torch.device(\n",
    "  \"cuda\" if torch.cuda.is_available() else\n",
    "  \"mps\" if torch.backends.mps.is_available() else\n",
    "  \"cpu\")\n",
    "device"
   ],
   "metadata": {
    "colab": {
     "base_uri": "https://localhost:8080/"
    },
    "id": "FN9pLKURIK3c",
    "outputId": "7421eba9-20b7-4ed3-80ad-75de3ba3eebf"
   },
   "execution_count": null,
   "outputs": [
    {
     "output_type": "execute_result",
     "data": {
      "text/plain": [
       "device(type='cuda')"
      ]
     },
     "metadata": {},
     "execution_count": 7
    }
   ]
  },
  {
   "cell_type": "code",
   "source": [
    "# !gdown --id #####ID_HERE##### --output diatom-dataset.zip\n",
    "# !unzip -q diatom-dataset.zip -d /content/diatom-dataset\n",
    "\n",
    "diatom_dataset_root_dir = kagglehub.dataset_download(\"huseyingunduz/diatom-dataset\")\n",
    "\n",
    "diatom_images_dir = os.path.join(diatom_dataset_root_dir, \"images\")\n",
    "diatom_xmls_dir = os.path.join(diatom_dataset_root_dir, \"xmls\")"
   ],
   "metadata": {
    "id": "N8ln51jsIMf6"
   },
   "execution_count": null,
   "outputs": []
  },
  {
   "cell_type": "code",
   "source": [
    "drive.mount('/content/drive')"
   ],
   "metadata": {
    "colab": {
     "base_uri": "https://localhost:8080/"
    },
    "id": "R1tnsbpRjB1e",
    "outputId": "5d6c561b-2703-494e-8973-ceaa33dc7523"
   },
   "execution_count": null,
   "outputs": [
    {
     "output_type": "stream",
     "name": "stdout",
     "text": [
      "Mounted at /content/drive\n"
     ]
    }
   ]
  },
  {
   "cell_type": "code",
   "source": [
    "classes = {\n",
    "  1: \"Gomphonema olivaceum\",\n",
    "  2: \"Navicula cryptotenella\",\n",
    "  3: \"Fragilaria recapitellata\",\n",
    "  4: \"Encyonema silesiacum\",\n",
    "  5: \"Navicula reichardtiana\",\n",
    "  6: \"Planothidium lanceolatum\",\n",
    "  7: \"Gomphonema tergestinum\",\n",
    "  8: \"Navicula cryptotenelloides\",\n",
    "  9: \"Rhoicosphenia abbreviata\",\n",
    "  10: \"Meridion circulare\",\n",
    "  11: \"Surirella brebissonii var. kuetzingii\",\n",
    "  12: \"Encyonema ventricosum\",\n",
    "  13: \"Achnanthidium biasolettianum\",\n",
    "  14: \"Cymbella excisa\",\n",
    "  15: \"Diatoma moniliformis\",\n",
    "  16: \"Cymbella cantonatii\",\n",
    "  17: \"Diatoma mesodon\",\n",
    "  18: \"Humidophila contenta\",\n",
    "  19: \"Cocconeis pseudolineata\",\n",
    "  20: \"Navicula upsaliensis\",\n",
    "  21: \"Cymbella excisa var. subcapitata\",\n",
    "  22: \"Halamphora veneta\",\n",
    "  23: \"Gomphonema calcifugum\",\n",
    "  24: \"Nitzschia linearis\",\n",
    "  25: \"Pinnularia brebissonii\",\n",
    "  26: \"Humidophila perpusilla\",\n",
    "  27: \"Navicula trivialis\",\n",
    "  28: \"Gomphonema pumilum var. rigidum\",\n",
    "  29: \"Halamphora paraveneta\",\n",
    "  30: \"Nitzschia hantzschiana\",\n",
    "  31: \"Pantocsekiella ocellata\",\n",
    "  32: \"Planothidium frequentissimum\",\n",
    "  33: \"Adlafia minuscula\",\n",
    "  34: \"Navicula cryptocephala\",\n",
    "  35: \"Amphora pediculus\",\n",
    "  36: \"Navicula tripunctata\",\n",
    "  37: \"Navicula gregaria\",\n",
    "  38: \"Nitzschia archibaldii\",\n",
    "  39: \"Navicula moskalii\",\n",
    "  40: \"Epithemia argus\",\n",
    "  41: \"Gomphonema micropus\",\n",
    "  42: \"Gomphonema minutum\",\n",
    "  43: \"Navicula capitatoradiata\",\n",
    "  44: \"Gomphonema drutelingense\",\n",
    "  45: \"Denticula kuetzingii\",\n",
    "  46: \"Gomphonema supertergestinum\",\n",
    "  47: \"Achnanthidium minutissimum\",\n",
    "  48: \"Frustulia vulgaris\",\n",
    "  49: \"Gomphonema pumilum\",\n",
    "  50: \"Hantzschiana abundans\",\n",
    "  51: \"Caloneis lancettula\",\n",
    "  52: \"Navicula novaesiberica\",\n",
    "  53: \"Sellaphora radiosa\",\n",
    "  54: \"Navicula lanceolata\",\n",
    "  55: \"Gomphonema exilissimum\",\n",
    "  56: \"Diploneis fontanella\",\n",
    "  57: \"Luticola nivalis\",\n",
    "  58: \"Epithemia goeppertiana\",\n",
    "  59: \"Nitzschia recta\",\n",
    "  60: \"Stauroneis blazenciciae\",\n",
    "  61: \"Cymbopleura amphicephala\",\n",
    "  62: \"Cymbella excisa var. procera\",\n",
    "  63: \"Nitzschia palea\",\n",
    "  64: \"Didymosphenia geminata\",\n",
    "  65: \"Sellaphora saugerresii\",\n",
    "  66: \"Amphora inariensis\",\n",
    "  67: \"Neidiomorpha binodiformis\",\n",
    "  68: \"Surella minuta\"\n",
    "}\n",
    "\n",
    "class_to_idx = {v: k for k, v in classes.items()}"
   ],
   "metadata": {
    "id": "6WQONHlCI0VB"
   },
   "execution_count": null,
   "outputs": []
  },
  {
   "cell_type": "code",
   "source": [
    "banned_xml_files = [\n",
    "  \"388.xml\",\n",
    "  \"1147.xml\",\n",
    "  \"366.xml\",\n",
    "  \"1418.xml\",\n",
    "  \"488.xml\",\n",
    "  \"1256.xml\",\n",
    "  \"475.xml\",\n",
    "  \"1067.xml\",\n",
    "  \"1310.xml\",\n",
    "  \"453.xml\",\n",
    "  \"284.xml\",\n",
    "  \"233.xml\",\n",
    "  \"437.xml\",\n",
    "]"
   ],
   "metadata": {
    "id": "-RwadxJTI11R"
   },
   "execution_count": null,
   "outputs": []
  },
  {
   "cell_type": "code",
   "source": [
    "def parse_xml(filepath):\n",
    "  tree = ET.parse(filepath)\n",
    "  root = tree.getroot()\n",
    "\n",
    "  filename = root.find(\"filename\").text + \".png\"\n",
    "\n",
    "  objs = []\n",
    "\n",
    "  for obj in root.findall(\"objects/object\"):\n",
    "    class_name = obj.find(\"name\").text\n",
    "\n",
    "    xmin = int(obj.find(\"bbox/xmin\").text)\n",
    "    xmax = int(obj.find(\"bbox/xmax\").text)\n",
    "    ymin = int(obj.find(\"bbox/ymin\").text)\n",
    "    ymax = int(obj.find(\"bbox/ymax\").text)\n",
    "\n",
    "    objs.append({\n",
    "      \"class_name\": class_name,\n",
    "      \"xmin\": xmin,\n",
    "      \"xmax\": xmax,\n",
    "      \"ymin\": ymin,\n",
    "      \"ymax\": ymax,\n",
    "    })\n",
    "\n",
    "  return {\n",
    "    \"filename\": filename,\n",
    "    \"objects\": objs\n",
    "  }\n",
    "\n",
    "parse_xml(os.path.join(diatom_xmls_dir, \"25.xml\"))"
   ],
   "metadata": {
    "colab": {
     "base_uri": "https://localhost:8080/"
    },
    "id": "_nSoH5hBIjWa",
    "outputId": "f37fd6b8-e846-49b4-9f28-91811c7a8d79"
   },
   "execution_count": null,
   "outputs": [
    {
     "output_type": "execute_result",
     "data": {
      "text/plain": [
       "{'filename': '25.png',\n",
       " 'objects': [{'class_name': 'Gomphonema drutelingense',\n",
       "   'xmin': 604,\n",
       "   'xmax': 874,\n",
       "   'ymin': 1101,\n",
       "   'ymax': 1248},\n",
       "  {'class_name': 'Cymbella cantonatii',\n",
       "   'xmin': 648,\n",
       "   'xmax': 1227,\n",
       "   'ymin': 839,\n",
       "   'ymax': 1116}]}"
      ]
     },
     "metadata": {},
     "execution_count": 13
    }
   ]
  },
  {
   "cell_type": "code",
   "source": [
    "class DiatomDataset(Dataset):\n",
    "  def __init__(self, root_dir, classes, class_to_idx, banned_xml_files=[], transform=None, train=True):\n",
    "    self.root_dir = root_dir\n",
    "    self.classes = classes\n",
    "    self.class_to_idx = class_to_idx\n",
    "    self.transform = transform\n",
    "\n",
    "    self.xml_dir = os.path.join(self.root_dir, \"xmls\")\n",
    "    self.image_dir = os.path.join(self.root_dir, \"images\")\n",
    "\n",
    "    self.xml_files = os.listdir(self.xml_dir)\n",
    "    self.xml_files = [\n",
    "      xml_file for xml_file in self.xml_files if xml_file.endswith(\".xml\") and xml_file not in banned_xml_files\n",
    "    ]\n",
    "\n",
    "    split_idx = int(len(self.xml_files) * 0.8)\n",
    "\n",
    "    if train:\n",
    "      self.xml_files = self.xml_files[:split_idx]\n",
    "    else:\n",
    "      self.xml_files = self.xml_files[split_idx:]\n",
    "\n",
    "  def __len__(self):\n",
    "    return len(self.xml_files)\n",
    "\n",
    "  def __getitem__(self, index):\n",
    "    xml = parse_xml(os.path.join(self.xml_dir, self.xml_files[index]))\n",
    "\n",
    "    image_filename = os.path.join(self.image_dir, xml[\"filename\"])\n",
    "\n",
    "    image = PIL.Image.open(image_filename).convert(\"RGB\")\n",
    "    if self.transform:\n",
    "      image = self.transform(image)\n",
    "\n",
    "    boxes, labels = zip(*[\n",
    "      (\n",
    "        (*self._extract_bndbox(obj),), self.class_to_idx[obj[\"class_name\"]]\n",
    "      ) for obj in xml[\"objects\"]\n",
    "    ])\n",
    "\n",
    "    target = {\n",
    "      \"boxes\": torch.tensor(boxes, dtype=torch.float32),\n",
    "      \"labels\": torch.tensor(labels, dtype=torch.int64),\n",
    "    }\n",
    "\n",
    "    return image, target\n",
    "\n",
    "  def _extract_bndbox(self, obj):\n",
    "    return obj[\"xmin\"], obj[\"ymin\"], obj[\"xmax\"], obj[\"ymax\"]"
   ],
   "metadata": {
    "id": "PgK91ShkI3OU"
   },
   "execution_count": null,
   "outputs": []
  },
  {
   "cell_type": "code",
   "source": [
    "def to_device(images, targets):\n",
    "  return [image.to(device) for image in images], [{k: v.to(device) for k, v in target.items()} for target in targets]"
   ],
   "metadata": {
    "id": "l5reLt_iQMoC"
   },
   "execution_count": null,
   "outputs": []
  },
  {
   "cell_type": "code",
   "source": [
    "def train_epoch(dataloader, model, optimizer):\n",
    "  total_loss = 0\n",
    "\n",
    "  model.train()\n",
    "\n",
    "  for images, targets in tqdm(dataloader, desc=\"Training\"):\n",
    "    images, targets = to_device(images, targets)\n",
    "\n",
    "    loss_dict = model(images, targets)\n",
    "    losses = sum(loss for loss in loss_dict.values())\n",
    "\n",
    "    optimizer.zero_grad()\n",
    "    losses.backward()\n",
    "    optimizer.step()\n",
    "\n",
    "    total_loss += losses.item()\n",
    "\n",
    "  return total_loss / len(dataloader)\n",
    "\n",
    "def validate_epoch(dataloader, model):\n",
    "  mean_ap = MeanAveragePrecision().to(device)\n",
    "\n",
    "  model.eval()\n",
    "\n",
    "  with torch.no_grad():\n",
    "    for images, targets in tqdm(dataloader, desc=\"Validating\"):\n",
    "      images, targets = to_device(images, targets)\n",
    "\n",
    "      outputs = model(images)\n",
    "\n",
    "      mean_ap.update(outputs, targets)\n",
    "\n",
    "  score = mean_ap.compute()\n",
    "  score_cpu = {k: v.cpu() if torch.is_tensor(v) else v for k, v in score.items()}\n",
    "\n",
    "  return score"
   ],
   "metadata": {
    "id": "A4qbZ7vGQNXP"
   },
   "execution_count": null,
   "outputs": []
  },
  {
   "cell_type": "code",
   "source": [
    "def plot_detection_train_log(train_losses, val_maps, val_map_50s, val_map_75s):\n",
    "  epochs = np.arange(1, len(train_losses) + 1)\n",
    "\n",
    "  plt.figure(figsize=(15, 6))\n",
    "\n",
    "  plt.subplot(1, 2, 1)\n",
    "  plt.plot(epochs, train_losses, label=\"Train Loss\", marker='o', linewidth=2)\n",
    "  plt.title(\"Training Loss over Epochs\", fontsize=14)\n",
    "  plt.xlabel(\"Epoch\", fontsize=12)\n",
    "  plt.ylabel(\"Loss\", fontsize=12)\n",
    "  plt.grid(True, linestyle='--', alpha=0.6)\n",
    "  plt.xticks(fontsize=10)\n",
    "  plt.yticks(fontsize=10)\n",
    "  plt.gca().xaxis.set_major_locator(MaxNLocator(integer=True))\n",
    "  plt.legend(fontsize=10)\n",
    "\n",
    "  plt.subplot(1, 2, 2)\n",
    "  plt.plot(epochs, val_maps, label=\"mAP@[.5:.95]\", marker='o', linewidth=2)\n",
    "  plt.plot(epochs, val_map_50s, label=\"mAP@50\", marker='s', linewidth=2)\n",
    "  plt.plot(epochs, val_map_75s, label=\"mAP@75\", marker='^', linewidth=2)\n",
    "  plt.title(\"Validation mAP over Epochs\", fontsize=14)\n",
    "  plt.xlabel(\"Epoch\", fontsize=12)\n",
    "  plt.ylabel(\"mAP\", fontsize=12)\n",
    "  plt.grid(True, linestyle='--', alpha=0.6)\n",
    "  plt.xticks(fontsize=10)\n",
    "  plt.yticks(fontsize=10)\n",
    "  plt.gca().xaxis.set_major_locator(MaxNLocator(integer=True))\n",
    "  plt.legend(fontsize=10)\n",
    "\n",
    "  plt.tight_layout()\n",
    "  plt.show()"
   ],
   "metadata": {
    "id": "45jEGdLpQlm8"
   },
   "execution_count": null,
   "outputs": []
  },
  {
   "cell_type": "code",
   "source": [
    "train_dataset = DiatomDataset(\n",
    "  diatom_dataset_root_dir,\n",
    "  classes,\n",
    "  class_to_idx,\n",
    "  banned_xml_files,\n",
    "  transform=transforms.ToTensor(),\n",
    "  train=True\n",
    ")\n",
    "\n",
    "test_dataset = DiatomDataset(\n",
    "  diatom_dataset_root_dir,\n",
    "  classes,\n",
    "  class_to_idx,\n",
    "  banned_xml_files,\n",
    "  transform=transforms.ToTensor(),\n",
    "  train=False\n",
    ")"
   ],
   "metadata": {
    "id": "4gbOGZ9YQU7y"
   },
   "execution_count": null,
   "outputs": []
  },
  {
   "cell_type": "code",
   "source": [
    "train_dataloader = DataLoader(\n",
    "  dataset=train_dataset,\n",
    "  batch_size=2,\n",
    "  shuffle=True,\n",
    "  num_workers=2,\n",
    "  pin_memory=True,\n",
    "  prefetch_factor=4,\n",
    "  collate_fn=lambda batch: tuple(zip(*batch))\n",
    ")\n",
    "\n",
    "test_dataloader = DataLoader(\n",
    "  dataset=test_dataset,\n",
    "  batch_size=2,\n",
    "  shuffle=False,\n",
    "  num_workers=2,\n",
    "  pin_memory=True,\n",
    "  prefetch_factor=4,\n",
    "  collate_fn=lambda batch: tuple(zip(*batch))\n",
    ")"
   ],
   "metadata": {
    "id": "JPUazhiQJAua"
   },
   "execution_count": null,
   "outputs": []
  },
  {
   "cell_type": "code",
   "source": [
    "def get_fasterrcnn_model(num_classes):\n",
    "  weights = FasterRCNN_ResNet50_FPN_Weights.DEFAULT\n",
    "  model = fasterrcnn_resnet50_fpn(weights=weights)\n",
    "\n",
    "  in_features = model.roi_heads.box_predictor.cls_score.in_features\n",
    "  model.roi_heads.box_predictor = torchvision.models.detection.faster_rcnn.FastRCNNPredictor(in_features, num_classes)\n",
    "\n",
    "  return model"
   ],
   "metadata": {
    "id": "x6yS9j-SP_Ce"
   },
   "execution_count": null,
   "outputs": []
  },
  {
   "cell_type": "code",
   "source": [
    "model = get_fasterrcnn_model(len(classes) + 1)\n",
    "model.to(device)\n",
    "\n",
    "optimizer = torch.optim.SGD(\n",
    "  [p for p in model.parameters() if p.requires_grad],\n",
    "  lr=0.005,\n",
    "  momentum=0.9)\n",
    "\n",
    "n_epochs = 5\n",
    "\n",
    "train_losses = []\n",
    "scores = []\n",
    "\n",
    "for epoch in range(1, n_epochs+1):\n",
    "  loss = train_epoch(train_dataloader, model, optimizer)\n",
    "  score = validate_epoch(test_dataloader, model)\n",
    "\n",
    "  train_losses.append(loss)\n",
    "  scores.append(score)\n",
    "\n",
    "  print(f\"Epoch: {epoch} | \"\n",
    "        f\"Train Loss: {loss:.4f} | \"\n",
    "        f\"Val mAP: {score['map'].item():.4f} | \"\n",
    "        f\"Val mAP@50: {score['map_50'].item():.4f} | \"\n",
    "        f\"Val mAP@75: {score['map_75'].item():.4f}\")"
   ],
   "metadata": {
    "colab": {
     "base_uri": "https://localhost:8080/",
     "height": 1000,
     "referenced_widgets": [
      "d9d175708a49405d8dabc93a2087e3a0",
      "1d378cfc9410474e8bc5a3b03789f68c",
      "43071e44eb6840489c299f18e8cc68d6",
      "c042390ffd64402e92c63ce749faf51a",
      "3cbca657b1174400bc9f82380cb17686",
      "4e4ccc059b0a4e6197e6282b5e030125",
      "88b92b223998423a9bd15ee2250e5f14",
      "6e812e7d6e524bfa9752cff2fbf98b84",
      "dd0f26107c014d1d9358302b33cc71c9",
      "532c4d716d31449f8f4cda8b65cfc8b6",
      "f07523669c364a33942b786f147a00ff",
      "2c4f6df5d289471dbf3aede765a0fdd5",
      "df94d0a14b794ecdbc4fafe1677d1fbb",
      "30eb0ede920d41d3a535a3d425527a0c",
      "511eff7d37cd413cb339d694b322bdeb",
      "48b5d1f8b1754e44b5bafc4e2153acac",
      "aa5026a0929c45e3bf3a4a5e137b983b",
      "9645b8a8e00944b0980ee24cc5391769",
      "58b939b8affd431897c7148d7b1f1e5b",
      "ea4b2562d6c942ff823a1ee59f763b72",
      "44c9a23a8ccb42be8b82442a48c0c2ef",
      "bdb57dea8ace4f08bccfd9b51401f65b",
      "5848c918ab184ad5aee58e100eeed503",
      "afff5bbd218e4e97b1c1b4261d4a0a77",
      "2faf812cf10a4c008222ad91457adb95",
      "0e271df1e4b1485ab963a3fbacfa0431",
      "dcd3ebbefc104a46af44087372162a8b",
      "7a39f2d4fb924bb0b861ea5b20b2cc7e",
      "b57751e2007a48f9a86aabc99d7af2be",
      "573013e3a90a45e2ba77eb8bf4b650d1",
      "cb460ddba998446bb23635960298e969",
      "0069428561d548f7adc9cbeca75d6a1c",
      "e5fdaa689d8d4c45b1546455ba0de4a7",
      "dd68865d2e3b4e9394c330600b96bca9",
      "ad9c5644995740939c660b9fc4a67ea5",
      "e68e16009e0e442f910bacac5fd80619",
      "605ed521f9584f05851d36c50cc6713f",
      "cf8b95860418495e9ebfcfcc5761f115",
      "31291662c1bd4983ad21074da3254d23",
      "228cfe92634d4127a89084571d3259e2",
      "4410bc0686454a4b860cfac6632d7224",
      "837ad311ec9b4e81ba3f88e4920de08c",
      "1ab45e81487241cb8d1c861bcc2e5d26",
      "64e23a13c0fc432bb8c2e404ea5b942d",
      "30a1242bb5d146849bd5e9ba18c4d0e6",
      "5897b80b76e6487eba3fbfe7426d5522",
      "05e6ce4dddd4411085aa6dbc0536899a",
      "95cec28d973e4e3e91c3c8054c45b4c2",
      "d36d201711534727ab7850b4fb8379b3",
      "344484e620eb4562bdca71192c9b2ac0",
      "b4e52f9b1b4947c882c020dc63df846b",
      "da1dc781677b4bea8d584e8c609d3cf6",
      "ef033d97cdeb4f93b7b23fae77fc370c",
      "c0ea1833fb6d43eab918a671dfd7a3ac",
      "4f67d507b5df419cbc1e62ec411bd0b8",
      "b21f91ccd9724a55b2638e66779376a7",
      "02602c3c5f1041c997d5406227f5d3c0",
      "88c3e3bad63840a6a8933115af10e55f",
      "057eed12307740468abb71128fe7b090",
      "bc28d249120644fa99ca76c03e4036af",
      "348ae2817d0842b1a0f7a5b32601e1eb",
      "de946630751e47c3a9a8b78d1975028e",
      "106c21ddfb0547749c4a7e87695c9b7b",
      "4910bd3d6b474bcab741e08fe25af796",
      "4df4a2f8b95e48859bf704360275bbf7",
      "a005677de4e14bf7ba62f398010c93e0",
      "5dc0f0669b65411c80b7b408542823d0",
      "9fefb2d35910458a9a8815654c0497b7",
      "a1659f7e51be432e84615dacc760f091",
      "d281426c47e441b5afe030c3ae70cc60",
      "d70545582d3941ec807fa04afab14c8b",
      "bd65625c69204e1b8c77a041e1ed5fcf",
      "5de7b332f0ee468d94d24a33efb9d726",
      "b3e93c447f214372924252aa6d3a2e85",
      "32231619f45c428cb3a963c9a7ed2b7b",
      "3f4c16df99f649aa93915fe1faaca09a",
      "2c7f6abccbbc45d9a14fee12538fa28e",
      "1ea77a4c505c4c0fa259b2a526d83dad",
      "de4e0d2fe8954a4fbb0965127ffddeb2",
      "6aed5922eb8d42fa8d6532e48c69e53f",
      "f6130831d15e40ebbb08e72613421154",
      "1721b525a70144ce9e9d32ebc7e82ea6",
      "b87609ca494843f59ac19ceec2a120ba",
      "1d8f703652a247c4bcbbc9c3c28b99f3",
      "76a28fa5b184402196bb8bd09d4262d0",
      "eb29e035a5624b8db6edafb74994a45c",
      "0b8f74934d854fc8b6872d4df0709706",
      "6aa6380c32f74141928ea23703b1068e",
      "cf38198a0957476c925672514f21f142",
      "6e5ac3130ba444fca3e75c23bc80d132",
      "aa638b0181bb424d9f6bec4b4a96cfe2",
      "e2147f684778479cb8ac472711e388fe",
      "e9a0a24091cd4476baab3ff422155113",
      "f415294257a44bd79c481d75db286b14",
      "22278a7747e242ec83b428965196235c",
      "fac991de5ec249eeaa8de78ef20b6f66",
      "cf83f90c528e4d57862d492ee703871a",
      "8004dbba837f400a846d828969354a1b",
      "851e2c017a2c47f2b0af666f5f92ad10",
      "33fdf0398cf54c59ac01c9dd96990a35",
      "9f4d4ad73e1b4b96b2414d68c2cbeece",
      "d1a7c6b0200d4b97bd25ff42765ed40f",
      "909b2c9263374cf3bea76a18afc4542f",
      "1847c67bff234db78333126bb964c4c8",
      "cf28b6a5c7cd4036b155073706895138",
      "11412b53ff244c8f97136e365a766a68",
      "84cf1b1e2c864b4c977b14c34231280d",
      "db514ec0de5a4e4eab745519da91cdcd",
      "727b4b28bfe644cdbcbcbfb21c5979e3",
      "ec5ee2a7a4744ebb8671acc3f3d6a282"
     ]
    },
    "id": "cuh24NQ2QO0n",
    "outputId": "c0526cd2-075c-4301-8dc1-9495def69f99"
   },
   "execution_count": null,
   "outputs": [
    {
     "output_type": "stream",
     "name": "stdout",
     "text": [
      "Epoch: 1 | Train Loss: 0.3532 | Val mAP: 0.0881 | Val mAP@50: 0.1184 | Val mAP@75: 0.1131\n"
     ]
    },
    {
     "output_type": "stream",
     "name": "stdout",
     "text": [
      "Epoch: 2 | Train Loss: 0.2312 | Val mAP: 0.2238 | Val mAP@50: 0.3079 | Val mAP@75: 0.2741\n"
     ]
    },
    {
     "output_type": "stream",
     "name": "stderr",
     "text": [
      "Exception ignored in: <function _MultiProcessingDataLoaderIter.__del__ at 0x7be8683599e0>Exception ignored in: \n",
      "Exception ignored in: <function _MultiProcessingDataLoaderIter.__del__ at 0x7be8683599e0>Traceback (most recent call last):\n",
      "<function _MultiProcessingDataLoaderIter.__del__ at 0x7be8683599e0>\n",
      "  File \"/usr/local/lib/python3.11/dist-packages/torch/utils/data/dataloader.py\", line 1618, in __del__\n",
      "    \n",
      "Traceback (most recent call last):\n",
      "self._shutdown_workers()  File \"/usr/local/lib/python3.11/dist-packages/torch/utils/data/dataloader.py\", line 1618, in __del__\n",
      "Traceback (most recent call last):\n",
      "\n",
      "  File \"/usr/local/lib/python3.11/dist-packages/torch/utils/data/dataloader.py\", line 1618, in __del__\n",
      "      File \"/usr/local/lib/python3.11/dist-packages/torch/utils/data/dataloader.py\", line 1601, in _shutdown_workers\n",
      "    self._shutdown_workers()    if w.is_alive():\n",
      "self._shutdown_workers()  File \"/usr/local/lib/python3.11/dist-packages/torch/utils/data/dataloader.py\", line 1601, in _shutdown_workers\n",
      "\n",
      "\n",
      "  File \"/usr/local/lib/python3.11/dist-packages/torch/utils/data/dataloader.py\", line 1601, in _shutdown_workers\n",
      "     if w.is_alive():     \n",
      "  if w.is_alive():  \n",
      "     ^ ^   ^  ^  ^^ ^ ^^^^^^^^^^^^^^^^^\n",
      "^^  File \"/usr/lib/python3.11/multiprocessing/process.py\", line 160, in is_alive\n",
      "    ^^^assert self._parent_pid == os.getpid(), 'can only test a child process'^\n",
      "^^ ^^ ^\n",
      " ^  File \"/usr/lib/python3.11/multiprocessing/process.py\", line 160, in is_alive\n",
      "\n",
      "        File \"/usr/lib/python3.11/multiprocessing/process.py\", line 160, in is_alive\n",
      "assert self._parent_pid == os.getpid(), 'can only test a child process'     assert self._parent_pid == os.getpid(), 'can only test a child process'\n",
      "    \n",
      "          ^ ^  ^ ^    ^  ^  ^^^^^ ^^^^^^^^^^^^^^Exception ignored in: ^^^^<function _MultiProcessingDataLoaderIter.__del__ at 0x7be8683599e0>^^^\n",
      "^^^Traceback (most recent call last):\n",
      "^  File \"/usr/local/lib/python3.11/dist-packages/torch/utils/data/dataloader.py\", line 1618, in __del__\n",
      "^^^^    ^^^^self._shutdown_workers()^^\n",
      "^^  File \"/usr/local/lib/python3.11/dist-packages/torch/utils/data/dataloader.py\", line 1601, in _shutdown_workers\n",
      "^^^^    ^^^if w.is_alive():^^^\n",
      "^^^ ^^^ ^^^^ ^^^ ^^ ^^^^^ ^^^ ^^\n",
      "^^^AssertionError^^\n",
      ": ^^^^^^can only test a child process\n",
      "AssertionError^: ^^^can only test a child process\n",
      "^^^^^^^\n",
      "\n",
      "AssertionError  File \"/usr/lib/python3.11/multiprocessing/process.py\", line 160, in is_alive\n",
      ":     can only test a child processassert self._parent_pid == os.getpid(), 'can only test a child process'\n",
      "\n",
      "           ^^^^^^^^^^^^^^^^^^^^^^^^^^^^^^^\n",
      "AssertionError: can only test a child process\n"
     ]
    },
    {
     "output_type": "stream",
     "name": "stdout",
     "text": [
      "Epoch: 3 | Train Loss: 0.1679 | Val mAP: 0.3109 | Val mAP@50: 0.4177 | Val mAP@75: 0.3799\n"
     ]
    },
    {
     "output_type": "stream",
     "name": "stdout",
     "text": [
      "Epoch: 4 | Train Loss: 0.1315 | Val mAP: 0.3671 | Val mAP@50: 0.4991 | Val mAP@75: 0.4579\n"
     ]
    },
    {
     "output_type": "stream",
     "name": "stdout",
     "text": [
      "Epoch: 5 | Train Loss: 0.1079 | Val mAP: 0.4518 | Val mAP@50: 0.5966 | Val mAP@75: 0.5636\n"
     ]
    }
   ]
  },
  {
   "cell_type": "code",
   "source": [
    "torch.save(\n",
    "  {\n",
    "    \"model_state_dict\": model.state_dict(),\n",
    "    \"optimizer_state_dict\": optimizer.state_dict(),\n",
    "    \"epoch\": n_epochs,\n",
    "    \"logs\": {\n",
    "      \"losses\": train_losses,\n",
    "      \"scores\": scores\n",
    "    }\n",
    "  },\n",
    "  \"/content/drive/MyDrive/model/retinanet_renset50_fpn_diatom_250430_1.pth\"\n",
    ")"
   ],
   "metadata": {
    "id": "cIQtnwmKJNp4"
   },
   "execution_count": null,
   "outputs": []
  },
  {
   "cell_type": "code",
   "source": [
    "plot_detection_train_log(train_losses, *zip(*[(score[\"map\"], score[\"map_50\"], score[\"map_75\"]) for score in scores]))"
   ],
   "metadata": {
    "id": "mhYfJKmCgkPk",
    "colab": {
     "base_uri": "https://localhost:8080/",
     "height": 448
    },
    "outputId": "83f57f52-474b-4d45-c699-b754290139af"
   },
   "execution_count": null,
   "outputs": [
    {
     "output_type": "display_data",
     "data": {
      "text/plain": [
       "<Figure size 1500x600 with 2 Axes>"
      ],
      "image/png": "[encoded data removed]"
     },
     "metadata": {}
    }
   ]
  },
  {
   "cell_type": "code",
   "source": [],
   "metadata": {
    "id": "1M25QgywqRqA"
   },
   "execution_count": null,
   "outputs": []
  }
 ]
}